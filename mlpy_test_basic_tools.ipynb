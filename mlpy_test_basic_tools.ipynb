{
 "cells": [
  {
   "cell_type": "code",
   "execution_count": 1,
   "metadata": {},
   "outputs": [],
   "source": [
    "import numpy as np\n",
    "from mlpy.tools import accuracy_score, train_test_split, one_hot, fliess_kappa"
   ]
  },
  {
   "cell_type": "code",
   "execution_count": 2,
   "metadata": {},
   "outputs": [
    {
     "name": "stdout",
     "output_type": "stream",
     "text": [
      "expected: 80%\n",
      "0.8\n"
     ]
    }
   ],
   "source": [
    "# test accuracy score\n",
    "trues = ['a', 'b', 'c' , 'd', 'e', 'f', 'g', 'h', 'i', 'j']\n",
    "preds = ['a', 'b', 'b' , 'd', 'e', 'f', 'g', 'h', 'j', 'j']\n",
    "print('expected: 80%')\n",
    "print(accuracy_score(trues, preds))"
   ]
  },
  {
   "cell_type": "code",
   "execution_count": 3,
   "metadata": {},
   "outputs": [],
   "source": [
    "# train-test split\n",
    "# vowels are 0, consonants are 1\n",
    "samples = np.array(['a', 'b', 'c' , 'd', 'e', 'f', 'g', 'h', 'i', 'j', 'k', 'l', 'm', 'n', 'o', 'p'])\n",
    "labels  = np.array([ 0 ,  1 ,  1  ,  1 ,  0 ,  1 ,  1 ,  1 ,  0 ,  1 ,  1 ,  1 ,  1 ,  1 ,  0 ,  1 ])\n",
    "train_x, test_x, train_y, test_y = train_test_split(samples, labels, train_size=0.75)"
   ]
  },
  {
   "cell_type": "code",
   "execution_count": 4,
   "metadata": {},
   "outputs": [
    {
     "data": {
      "text/plain": [
       "[('c', 1),\n",
       " ('j', 1),\n",
       " ('i', 0),\n",
       " ('a', 0),\n",
       " ('b', 1),\n",
       " ('e', 0),\n",
       " ('k', 1),\n",
       " ('l', 1),\n",
       " ('h', 1),\n",
       " ('d', 1),\n",
       " ('g', 1),\n",
       " ('p', 1)]"
      ]
     },
     "execution_count": 4,
     "metadata": {},
     "output_type": "execute_result"
    }
   ],
   "source": [
    "list(zip(train_x, train_y))"
   ]
  },
  {
   "cell_type": "code",
   "execution_count": 5,
   "metadata": {},
   "outputs": [
    {
     "data": {
      "text/plain": [
       "[('m', 1), ('f', 1), ('n', 1), ('o', 0)]"
      ]
     },
     "execution_count": 5,
     "metadata": {},
     "output_type": "execute_result"
    }
   ],
   "source": [
    "list(zip(test_x, test_y))"
   ]
  },
  {
   "cell_type": "code",
   "execution_count": 6,
   "metadata": {},
   "outputs": [
    {
     "data": {
      "text/plain": [
       "array([[1., 0., 0., 0., 0., 0., 0., 0., 0., 0.],\n",
       "       [0., 1., 0., 0., 0., 0., 0., 0., 0., 0.],\n",
       "       [0., 0., 1., 0., 0., 0., 0., 0., 0., 0.],\n",
       "       [0., 0., 0., 1., 0., 0., 0., 0., 0., 0.],\n",
       "       [0., 0., 0., 0., 1., 0., 0., 0., 0., 0.],\n",
       "       [0., 0., 0., 0., 0., 1., 0., 0., 0., 0.]])"
      ]
     },
     "execution_count": 6,
     "metadata": {},
     "output_type": "execute_result"
    }
   ],
   "source": [
    "# test one-hot\n",
    "ints = np.array([0, 1, 2, 3, 4, 5])\n",
    "one_hot(ints, num_classes=10)"
   ]
  },
  {
   "cell_type": "code",
   "execution_count": 7,
   "metadata": {},
   "outputs": [
    {
     "name": "stdout",
     "output_type": "stream",
     "text": [
      "expected: 0.210\n",
      "0.20993070442195522\n"
     ]
    }
   ],
   "source": [
    "# tess fliess kappa\n",
    "# example from wikipedia\n",
    "data = np.array([\n",
    "\t[0, 0, 0, 0, 14],\n",
    "\t[0, 2, 6, 4, 2],\n",
    "\t[0, 0, 3, 5, 6],\n",
    "\t[0, 3, 9, 2, 0],\n",
    "\t[2, 2, 8, 1, 1],\n",
    "\t[7, 7, 0, 0, 0],\n",
    "\t[3, 2, 6, 3, 0],\n",
    "\t[2, 5, 3, 2, 2],\n",
    "\t[6, 5, 2, 1, 0],\n",
    "\t[0, 2, 2, 3, 7]\n",
    "])\n",
    "print('expected: 0.210')\n",
    "print(fliess_kappa(data))"
   ]
  },
  {
   "cell_type": "code",
   "execution_count": null,
   "metadata": {},
   "outputs": [],
   "source": []
  }
 ],
 "metadata": {
  "kernelspec": {
   "display_name": "atlas",
   "language": "python",
   "name": "atlas"
  },
  "language_info": {
   "codemirror_mode": {
    "name": "ipython",
    "version": 3
   },
   "file_extension": ".py",
   "mimetype": "text/x-python",
   "name": "python",
   "nbconvert_exporter": "python",
   "pygments_lexer": "ipython3",
   "version": "3.6.3"
  }
 },
 "nbformat": 4,
 "nbformat_minor": 2
}
