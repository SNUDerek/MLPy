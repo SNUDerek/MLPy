{
 "cells": [
  {
   "cell_type": "code",
   "execution_count": 1,
   "metadata": {},
   "outputs": [],
   "source": [
    "%matplotlib inline\n",
    "from matplotlib import pyplot as plt\n",
    "import numpy as np\n",
    "np.random.seed(123)"
   ]
  },
  {
   "cell_type": "markdown",
   "metadata": {},
   "source": [
    "# Multi-layer Perceptron : A Basic Neural Network\n",
    "\n",
    "this is a simple `python+numpy` implementation of a feed-forward neural network based on [my MLPy repo](https://github.com/SNUDerek/MLPy)"
   ]
  },
  {
   "cell_type": "markdown",
   "metadata": {},
   "source": [
    "![mlp diagram](https://www.researchgate.net/profile/Michael_Frish/publication/241347660/figure/fig3/AS:298690993508361@1448224890429/The-structure-of-a-multilayer-perceptron-neural-network.png)\n",
    "\n",
    "_from Faghfouri and Frish, 2011_"
   ]
  },
  {
   "cell_type": "markdown",
   "metadata": {},
   "source": [
    "# Concept\n",
    "\n",
    "a neural network is trained with **Gradient Descent** in the same manner as Linear and Logistic Regression:\n",
    "\n",
    "Until convergence:  \n",
    "1. initialize weights randomly\n",
    "2. make a prediction ( _Forward Propagation_ )\n",
    "3. measure error ( e.g. cross-entropy / negative log-likelihood )\n",
    "4. adjust weights ( _Backpropagation_ )\n",
    "\n",
    "### forward propagation\n",
    "\n",
    "this is a case of using the current weights to 'multiply and sum through' to get the outputs.\n",
    "\n",
    "it's easier to view it from the perspective of the hidden layer neuron inputs:\n",
    "\n",
    "1. each hidden neuron takes a _weighted sum_ of the inputs `x` times weights `w`: `sum(x * w) = u`\n",
    "2. this is a dot product: inputs.dot(neuron_weights): `[A, B, C].dot([x, y, z]) = Ax + By + Cz`\n",
    "3. then, this sum is (often) run through an activation function such as sigmoid, ReLU `σ(u) = h`\n",
    "4. now, we have the (first) hidden layer activations, an array `[h0, h1, h2 ...]`\n",
    "5. we now to the same process for the next layer(s) until we get the final outputs `o`\n",
    "\n",
    "NB: because for *each* neuron of the hidden and output layers, the results of the previous layer are *summed*, this is how we can have layers with different numbers of neurons.\n",
    "\n",
    "Also, we can see why we need randomized weights for the hidden neurons, because if the weights for each neuron were the same, then the `inputs * weights` would be the same, so the sums would be the same. by randomizing, each hidden neuron is learning to detect a (hopefully) *different* feature. \n",
    "\n",
    "## backwards propagation (backprop)\n",
    "\n",
    "hehe gonna have to consult the resources below..."
   ]
  },
  {
   "cell_type": "markdown",
   "metadata": {},
   "source": [
    "# NumPy example"
   ]
  },
  {
   "cell_type": "markdown",
   "metadata": {},
   "source": [
    "### minbatch generator function\n",
    "\n",
    "this is an iterator function that will return shuffled minibatches when called.  \n",
    "`np.random.permutation()` takes a max-length integer, and returns a list of randomized indices between 0 and max_len.  \n",
    "for each iteration, we return batches of `batch_size`, getting the data indices from this shuffled list.  \n",
    "when the next batch would go past the end of the data, we generate a new list and start from the beginning again."
   ]
  },
  {
   "cell_type": "code",
   "execution_count": 2,
   "metadata": {},
   "outputs": [],
   "source": [
    "# return minibatches of data (for SGD)\n",
    "def batchGenerator(x_data, y_data, batch_size):\n",
    "    i = 0\n",
    "    # shuffle indices\n",
    "    order = np.random.permutation(len(y_data))\n",
    "\n",
    "    # return the next batch_size number of data\n",
    "    while True:\n",
    "        x_batch = x_data[order[i:i + batch_size]]\n",
    "        y_batch = y_data[order[i:i + batch_size]]\n",
    "\n",
    "        yield (x_batch, y_batch)\n",
    "\n",
    "        # if the next batch is beyond the data size,\n",
    "        # reset the counter and re-shuffle the data\n",
    "        if i + batch_size >= len(y_data) - 1:\n",
    "            order = np.random.permutation(len(y_data))\n",
    "            i = 0\n",
    "        else:\n",
    "            i += batch_size"
   ]
  },
  {
   "cell_type": "markdown",
   "metadata": {},
   "source": [
    "# MLP class\n",
    "\n",
    "this is a simple class-based implementation of a Multi-Layer Perceptron.  \n",
    "it's a type of Dense neural network with at least one hidden layer.  \n",
    "we will use the **sigmoid activation** on all layers, just like our logistic regression example.  \n",
    "(although keep in mind that this is a largely outdated activation: use a ReLU variant)  \n",
    "\n",
    "for our loss we are using the simple negative log-likelihood or binary cross-entropy loss.  \n",
    "this means our output can be any combination of values between `0,1`  \n",
    "so our network can be used for *multi-label* classification, among other things.  \n",
    "we will use a simple implementation of the **bias** similar to the image above:  \n",
    "no bias will be added at hidden layers 2+, although `addbias` can add a column of 1's to act as hidden layer 1 bias  \n",
    "\n",
    "if we wanted better perfomance for strict *multi-class* classification with mutually-exclusive (\"one-hot\") outputs,  \n",
    "we should implement `softmax activation` for the hidden layer activation, and `categorical cross-entropy loss`  "
   ]
  },
  {
   "cell_type": "code",
   "execution_count": 3,
   "metadata": {},
   "outputs": [],
   "source": [
    "# multilayer perceptron from MLPy (https://github.com/SNUDerek/MLPy)\n",
    "# adapted from https://databoys.github.io/Feedforward/\n",
    "# and https://www.analyticsvidhya.com/blog/2017/05/neural-network-from-scratch-in-python-and-r/\n",
    "class MultiLayerPerceptron:\n",
    "\n",
    "    def __init__(self, input_dim, hidden_dim, output_dim, hidden_layers=1, addbias=True,\n",
    "                 epochs=1000, batch_size=16, lr=0.001, print_iters=1000, verbose=False):\n",
    "        '''\n",
    "        Multi-Layer Perceptron with Sigmoid Activation and Binary Cross-Entropy Loss\n",
    "        for multi-class and multi-label tasks\n",
    "        Parameters\n",
    "        ----------\n",
    "        input_dim : int\n",
    "            number of input features - set by X.shape[1]\n",
    "        hidden_dim : int\n",
    "            number of features (neurons) in each hidden layer - set manually\n",
    "        output_dim : int\n",
    "            number of output features (classes) - set by y.shape[1]\n",
    "        hidden_layers : int\n",
    "            number of hidden layers\n",
    "        addbias : bool\n",
    "            whether to add a bias to the input variable\n",
    "        epochs : int\n",
    "            maximum epochs\n",
    "        batch_size : int\n",
    "            number of samples per batch for minibatch gradient descent\n",
    "        lr : float\n",
    "            learning rate\n",
    "        print_iters : int\n",
    "            how many iters between cost printout (if verbose)\n",
    "        verbose : bool\n",
    "            whether to print intermediate cost values during training\n",
    "        weights : array\n",
    "            weights (coefficients) of linear model\n",
    "        Attributes\n",
    "        -------\n",
    "        costs : list of floats\n",
    "            the binary cross-entropy costs per epoch\n",
    "        errors : list of floats\n",
    "            the averaged sum of absolute difference (pred - true) per epoch\n",
    "        wh : list of np.arrays\n",
    "            the weight vectors for each hidden layer\n",
    "        wout : np.array\n",
    "            the weight vector for the output layer\n",
    "        '''\n",
    "\n",
    "        self.input_dim = input_dim\n",
    "        self.hidden_dim = hidden_dim\n",
    "        self.output_dim = output_dim\n",
    "        self.hidden_lyr = hidden_layers\n",
    "        self.addbias = addbias\n",
    "        self.epochs = epochs\n",
    "        self.batchsize = batch_size\n",
    "        self.lr = lr\n",
    "        self.print_iters = print_iters\n",
    "        self.verbose = verbose\n",
    "        if self.addbias:\n",
    "            self.input_dim += 1\n",
    "        # initialize weights, activations\n",
    "        # initialize randomly so each learns something different\n",
    "        # input weights are not considered\n",
    "        self.h_acts = [np.zeros((self.hidden_dim, self.batchsize)) for l in range(self.hidden_lyr)]\n",
    "        self.wh = [np.random.uniform(size=(self.input_dim, self.hidden_dim))]\n",
    "        for l in range(self.hidden_lyr - 1):\n",
    "            self.wh.append(np.random.uniform(size=(self.hidden_dim, self.hidden_dim)))\n",
    "        self.wout = np.random.uniform(size=(self.hidden_dim, self.output_dim))\n",
    "        self.costs = []\n",
    "        self.errors = []\n",
    "\n",
    "    # internal function for sigmoid\n",
    "    def _sigmoid(self, estimates):\n",
    "\n",
    "        sigmoid = 1 / (1 + np.exp(-estimates))\n",
    "\n",
    "        return sigmoid\n",
    "\n",
    "    # internal function for derivative of sigmoid\n",
    "    # sigmoid(y) * (1.0 - sigmoid(y))\n",
    "    def _dsigmoid(self, sig_y):\n",
    "\n",
    "        deriv = sig_y * (1.0 - sig_y)\n",
    "\n",
    "        return deriv\n",
    "\n",
    "    # Forward Propagation\n",
    "    def _feedforward(self, x_batch):\n",
    "\n",
    "        for i in range(self.hidden_lyr):\n",
    "\n",
    "            # multiply previous layer outputs by the weights\n",
    "            if i == 0:\n",
    "                hidden_layer_input = np.dot(x_batch, self.wh[i])\n",
    "            else:\n",
    "                hidden_layer_input = np.dot(self.h_acts[i-1], self.wh[i])\n",
    "\n",
    "            # run the activations though non-linearity\n",
    "            self.h_acts[i] = self._sigmoid(hidden_layer_input)\n",
    "\n",
    "        # calculate final output layer\n",
    "        output_layer_input = np.dot(self.h_acts[self.hidden_lyr-1], self.wout)\n",
    "        output = self._sigmoid(output_layer_input)\n",
    "\n",
    "        return output\n",
    "\n",
    "    # cross-entropy cost function\n",
    "    def _cost(self, y, t):\n",
    "        return - np.sum(np.multiply(t, np.log(y)) + np.multiply((1 - t), np.log(1 - y)))\n",
    "\n",
    "    # Backpropagation\n",
    "    def _backprop(self, x_batch, y_batch, hidden_layer_acts, output):\n",
    "\n",
    "        # calculate output error\n",
    "        output_error = y_batch - output\n",
    "        grad_output_layer = self._dsigmoid(output)\n",
    "        delta_output = output_error * grad_output_layer\n",
    "\n",
    "        # propagate error, delta for each hidden layer\n",
    "        grad_hidden_layer = [[] for i in range(self.hidden_lyr)]\n",
    "        hidden_error = [[] for i in range(self.hidden_lyr)]\n",
    "        delta_hidden_layer = [[] for i in range(self.hidden_lyr)]\n",
    "\n",
    "        for i in range(len(hidden_layer_acts)):\n",
    "            # BACK-propagate from the last layer (count backwards!)\n",
    "            idx = len(hidden_layer_acts) - (i + 1)\n",
    "            grad_hidden_layer[idx] = self._dsigmoid(hidden_layer_acts[idx])\n",
    "\n",
    "            if i == 0:\n",
    "                hidden_error[idx] = delta_output.dot(self.wout.T)\n",
    "            else:\n",
    "                hidden_error[idx] = delta_hidden_layer[idx+1].dot(self.wh[idx+1].T)\n",
    "\n",
    "            delta_hidden_layer[idx] = hidden_error[idx] * grad_hidden_layer[idx]\n",
    "\n",
    "        # weight updates for all layers\n",
    "        self.wout += hidden_layer_acts[-1].T.dot(delta_output) * self.lr\n",
    "        for i in range(len(hidden_layer_acts)):\n",
    "            if i == 0:\n",
    "                self.wh[i] += x_batch.T.dot(delta_hidden_layer[i]) * self.lr\n",
    "            else:\n",
    "                self.wh[i] += hidden_layer_acts[i - 1].T.dot(delta_hidden_layer[i]) * self.lr\n",
    "\n",
    "        return output_error\n",
    "\n",
    "    # add a 'train' function for keras-type naming convention\n",
    "    def train(self, x_data, y_data):\n",
    "\n",
    "        self.fit(x_data, y_data)\n",
    "\n",
    "        return\n",
    "\n",
    "    # main fitting function\n",
    "    def fit(self, x_data, y_data):\n",
    "\n",
    "        # reset costs from previous fittings\n",
    "        self.costs = []\n",
    "        self.errors = []\n",
    "\n",
    "        # re-initialize weight matrices\n",
    "        self.h_acts = [np.zeros((self.hidden_dim, self.batchsize)) for l in range(self.hidden_lyr)]\n",
    "        self.wh = [np.random.uniform(size=(self.input_dim, self.hidden_dim))]\n",
    "        for l in range(self.hidden_lyr - 1):\n",
    "            self.wh.append(np.random.uniform(size=(self.hidden_dim, self.hidden_dim)))\n",
    "        self.wout = np.random.uniform(size=(self.hidden_dim, self.output_dim))\n",
    "\n",
    "        # add 1 for bias term\n",
    "        if self.addbias:\n",
    "            x_data = np.hstack((np.ones((x_data.shape[0], 1)), x_data))\n",
    "\n",
    "        # generator for minibatch gradient descent\n",
    "        minibatch = batchGenerator(x_data, y_data, self.batchsize)\n",
    "\n",
    "        # for each epoch (through all data)\n",
    "        for i in range(self.epochs):\n",
    "\n",
    "            costs = []\n",
    "\n",
    "            # for the number of minibatches per epoch:\n",
    "            for j in range(int(len(y_data)/self.batchsize)):\n",
    "\n",
    "                x_batch, y_batch = next(minibatch)\n",
    "\n",
    "                output = self._feedforward(x_batch)\n",
    "\n",
    "                costs.append(self._cost(output, y_batch))\n",
    "\n",
    "                out_error = self._backprop(x_batch, y_batch,\n",
    "                                           self.h_acts, output)\n",
    "\n",
    "                # sub the absolute values of the errors\n",
    "                error = np.sum(np.absolute(out_error))\n",
    "\n",
    "            if self.verbose and i % self.print_iters == 0:\n",
    "                print('epoch', i, ': cross-entropy cost %-.5f' % np.average(costs), ': sum abs error %-.5f' % error)\n",
    "\n",
    "            self.costs.append(np.average(costs))\n",
    "            self.errors.append(error)\n",
    "\n",
    "        return\n",
    "\n",
    "    # predict_proba outputs the raw activations\n",
    "    def predict_proba(self, x_data):\n",
    "\n",
    "        # add 1 for bias term\n",
    "        if self.addbias:\n",
    "            x_data = np.hstack((np.ones((x_data.shape[0], 1)), x_data))\n",
    "\n",
    "        predictions = self._feedforward(x_data)\n",
    "\n",
    "        return predictions\n",
    "\n",
    "    # predict rounds the outputs to 0 or 1\n",
    "    def predict(self, x_data):\n",
    "\n",
    "        pred_probas = self.predict_proba(x_data)\n",
    "\n",
    "        predictions = np.around(pred_probas)\n",
    "\n",
    "        return predictions\n"
   ]
  },
  {
   "cell_type": "markdown",
   "metadata": {},
   "source": [
    "# Universal Approximation Property\n",
    "\n",
    "the neural network has been shown to be a _universal function approximator_ : given a continuous function, there is some neural network that can approximate this function to an arbitrary level of accuracy. essentially, this means that the neural network can be applied to a variety of tasks. we will try applying our simple neural network code to a variety of tasks below. \n",
    "\n",
    "for an explanation of this universal function approximator property, see the links below:  \n",
    "(easy interactive demo) Nielsen: [A visual proof that neural nets can compute any function](http://neuralnetworksanddeeplearning.com/chap4.html)  \n",
    "(one mathematical proof) McNeela: [The Universal Approximation Theorem for Neural Networks](http://mcneela.github.io/machine_learning/2017/03/21/Universal-Approximation-Theorem.html)"
   ]
  },
  {
   "cell_type": "markdown",
   "metadata": {},
   "source": [
    "## example 1: function approximation\n",
    "\n",
    "here we will attempt to replicate the function approximation by mapping a polynomial function f(x) = ..."
   ]
  },
  {
   "cell_type": "code",
   "execution_count": 4,
   "metadata": {},
   "outputs": [],
   "source": [
    "# a polynomial equation\n",
    "def myFunction(x):\n",
    "    return 0.3 * x**4 + 0.6 * x**3 - 3.5 * x**2 - 5.5 * x + 10"
   ]
  },
  {
   "cell_type": "code",
   "execution_count": 5,
   "metadata": {},
   "outputs": [],
   "source": [
    "x_data = []\n",
    "y_data = []\n",
    "for i in range(1000):\n",
    "    # sample random x value\n",
    "    x = np.random.uniform(-4, 3)\n",
    "    y = myFunction(x)\n",
    "    x_data.append(x)\n",
    "    y_data.append(y)"
   ]
  },
  {
   "cell_type": "code",
   "execution_count": 6,
   "metadata": {},
   "outputs": [
    {
     "data": {
      "text/plain": [
       "(-3.9994267867043263,\n",
       " 2.9924288418095832,\n",
       " -5.633023358439807,\n",
       " 14.385389007349342)"
      ]
     },
     "execution_count": 6,
     "metadata": {},
     "output_type": "execute_result"
    }
   ],
   "source": [
    "np.min(x_data), np.max(x_data), np.min(y_data), np.max(y_data)"
   ]
  },
  {
   "cell_type": "code",
   "execution_count": 7,
   "metadata": {},
   "outputs": [
    {
     "data": {
      "text/plain": [
       "[<matplotlib.lines.Line2D at 0x7f4ee60727f0>]"
      ]
     },
     "execution_count": 7,
     "metadata": {},
     "output_type": "execute_result"
    },
    {
     "data": {
      "image/png": "[encoded data removed]",
      "text/plain": [
       "<matplotlib.figure.Figure at 0x7f4ea4dda748>"
      ]
     },
     "metadata": {},
     "output_type": "display_data"
    }
   ],
   "source": [
    "order = np.argsort(x_data)\n",
    "x_data = np.array(x_data)[order]\n",
    "y_data = np.array(y_data)[order]\n",
    "plt.plot(x_data, y_data)"
   ]
  },
  {
   "cell_type": "code",
   "execution_count": 8,
   "metadata": {},
   "outputs": [],
   "source": [
    "# normalize both axes to range 0, 1\n",
    "x_data += np.abs(np.min(x_data)) # raise up values to 0.0+\n",
    "x_data /= np.max(np.abs(x_data), axis=0) # then divide each value by max\n",
    "y_data += np.abs(np.min(y_data))\n",
    "y_data /= np.max(np.abs(y_data), axis=0)"
   ]
  },
  {
   "cell_type": "code",
   "execution_count": 9,
   "metadata": {},
   "outputs": [
    {
     "data": {
      "text/plain": [
       "(0.0, 1.0, 0.0, 1.0)"
      ]
     },
     "execution_count": 9,
     "metadata": {},
     "output_type": "execute_result"
    }
   ],
   "source": [
    "# check\n",
    "np.min(x_data), np.max(x_data), np.min(y_data), np.max(y_data)"
   ]
  },
  {
   "cell_type": "markdown",
   "metadata": {},
   "source": [
    "as we can see below, the representation of the function hasn't changed, just the scale"
   ]
  },
  {
   "cell_type": "code",
   "execution_count": 10,
   "metadata": {},
   "outputs": [
    {
     "data": {
      "text/plain": [
       "[<matplotlib.lines.Line2D at 0x7f4ee600b630>]"
      ]
     },
     "execution_count": 10,
     "metadata": {},
     "output_type": "execute_result"
    },
    {
     "data": {
      "image/png": "[encoded data removed]",
      "text/plain": [
       "<matplotlib.figure.Figure at 0x7f4ea4e93908>"
      ]
     },
     "metadata": {},
     "output_type": "display_data"
    }
   ],
   "source": [
    "# need to reorder for matplotlib\n",
    "order = np.argsort(x_data)\n",
    "x_data = np.array(x_data)[order]\n",
    "y_data = np.array(y_data)[order]\n",
    "plt.plot(x_data, y_data)"
   ]
  },
  {
   "cell_type": "code",
   "execution_count": 11,
   "metadata": {},
   "outputs": [
    {
     "data": {
      "text/plain": [
       "((1000, 1), (1000, 1))"
      ]
     },
     "execution_count": 11,
     "metadata": {},
     "output_type": "execute_result"
    }
   ],
   "source": [
    "# turn this data into \"list of lists\"\n",
    "x_data = x_data[:, np.newaxis]\n",
    "y_data = y_data[:, np.newaxis]\n",
    "x_data.shape, y_data.shape"
   ]
  },
  {
   "cell_type": "code",
   "execution_count": 29,
   "metadata": {},
   "outputs": [],
   "source": [
    "# create an instance\n",
    "# this model only has five neurons configured in one hidden layer\n",
    "function_mlp = MultiLayerPerceptron(x_data.shape[1], \n",
    "                                    8, # hidden_dim \n",
    "                                    y_data.shape[1], \n",
    "                                    hidden_layers=1, \n",
    "                                    addbias=True,\n",
    "                                    epochs=5000, \n",
    "                                    batch_size=4, \n",
    "                                    lr=0.05, \n",
    "                                    print_iters=500, \n",
    "                                    verbose=True)"
   ]
  },
  {
   "cell_type": "code",
   "execution_count": 30,
   "metadata": {},
   "outputs": [
    {
     "name": "stdout",
     "output_type": "stream",
     "text": [
      "epoch 0 : cross-entropy cost 2.92296 : sum abs error 1.08247\n",
      "epoch 500 : cross-entropy cost 2.18954 : sum abs error 0.40731\n",
      "epoch 1000 : cross-entropy cost 2.15563 : sum abs error 0.20610\n",
      "epoch 1500 : cross-entropy cost 2.13691 : sum abs error 0.31064\n",
      "epoch 2000 : cross-entropy cost 2.08644 : sum abs error 0.18758\n",
      "epoch 2500 : cross-entropy cost 2.07386 : sum abs error 0.29018\n",
      "epoch 3000 : cross-entropy cost 2.06875 : sum abs error 0.14956\n",
      "epoch 3500 : cross-entropy cost 2.06447 : sum abs error 0.20392\n",
      "epoch 4000 : cross-entropy cost 2.06063 : sum abs error 0.13332\n",
      "epoch 4500 : cross-entropy cost 2.05746 : sum abs error 0.05108\n"
     ]
    }
   ],
   "source": [
    "costs = function_mlp.train(x_data, y_data)"
   ]
  },
  {
   "cell_type": "code",
   "execution_count": 31,
   "metadata": {},
   "outputs": [],
   "source": [
    "# predict values - proba will give scaled values\n",
    "y_pred = function_mlp.predict_proba(x_data)"
   ]
  },
  {
   "cell_type": "markdown",
   "metadata": {},
   "source": [
    "### results\n",
    "\n",
    "as we can see below, our neural network has learned how to approximate our function pretty well with only a few neurons in a single layer!\n",
    "\n",
    "notice: we need to add bias to the hidden layer to help this converge well."
   ]
  },
  {
   "cell_type": "code",
   "execution_count": 32,
   "metadata": {},
   "outputs": [
    {
     "data": {
      "text/plain": [
       "<matplotlib.legend.Legend at 0x7f4e99460dd8>"
      ]
     },
     "execution_count": 32,
     "metadata": {},
     "output_type": "execute_result"
    },
    {
     "data": {
      "image/png": "[encoded data removed]",
      "text/plain": [
       "<matplotlib.figure.Figure at 0x7f4e9990d898>"
      ]
     },
     "metadata": {},
     "output_type": "display_data"
    }
   ],
   "source": [
    "plt.plot(x_data, y_data, label='function')\n",
    "plt.plot(x_data, y_pred, label='prediction')\n",
    "plt.legend()"
   ]
  },
  {
   "cell_type": "markdown",
   "metadata": {},
   "source": [
    "## example 2: counting in binary\n",
    "\n",
    "we can teach a neural network to count in binary. our number system is base 10, meaning each digits place is a different power of ten: the 'ones' place is 10^0, tens is 10^1, hundreds is 10^2 etc. binary is base 2, meaning each 'place' is a power of 2:\n",
    "\n",
    "```\n",
    "1 = 2^0 = 0001\n",
    "2 = 2^1 = 0010\n",
    "3 = 2 + 1 = 2^1 + 2^0 = 0011\n",
    "...\n",
    "11 = 8 + 2 + 1 = 2^3 + 2^1 + 2^0 = 1011\n",
    "```\n",
    "\n",
    "therefore, using three values `[ x, x, x ]` we can represent the numbers 0 to 7 as `[0,0,0]` to `[1,1,1]`\n",
    "\n",
    "we can then try to teach our network to output the next number given any number in the sequence\n",
    "\n",
    "idea is taken from here: [Backpropagation Neural Network - How it Works e.g. Counting](https://www.youtube.com/watch?v=WZDMNM36PsM)"
   ]
  },
  {
   "cell_type": "code",
   "execution_count": 16,
   "metadata": {},
   "outputs": [
    {
     "data": {
      "text/plain": [
       "((8, 3), (8, 3))"
      ]
     },
     "execution_count": 16,
     "metadata": {},
     "output_type": "execute_result"
    }
   ],
   "source": [
    "X = np.array([[0, 0, 0],  # 0\n",
    "              [0, 0, 1],  # 1\n",
    "              [0, 1, 0],  # 2\n",
    "              [0, 1, 1],  # 3\n",
    "              [1, 0, 0],  # 4\n",
    "              [1, 0, 1],  # 5\n",
    "              [1, 1, 0],  # 6\n",
    "              [1, 1, 1]]) # 7\n",
    "\n",
    "y = np.array([[0, 0, 1],\n",
    "              [0, 1, 0],\n",
    "              [0, 1, 1],\n",
    "              [1, 0, 0],\n",
    "              [1, 0, 1],\n",
    "              [1, 1, 0],\n",
    "              [1, 1, 1],\n",
    "              [0, 0, 0]])\n",
    "\n",
    "X.shape, y.shape"
   ]
  },
  {
   "cell_type": "code",
   "execution_count": 17,
   "metadata": {},
   "outputs": [],
   "source": [
    "# create an instance\n",
    "counting_mlp = MultiLayerPerceptron(X.shape[1], \n",
    "                                    4, # hidden_dim \n",
    "                                    y.shape[1], \n",
    "                                    hidden_layers=2,\n",
    "                                    addbias=True,\n",
    "                                    epochs=100000, \n",
    "                                    batch_size=2, \n",
    "                                    lr=0.05, \n",
    "                                    print_iters=10000, \n",
    "                                    verbose=True)"
   ]
  },
  {
   "cell_type": "code",
   "execution_count": 18,
   "metadata": {},
   "outputs": [
    {
     "name": "stdout",
     "output_type": "stream",
     "text": [
      "epoch 0 : cross-entropy cost 5.10204 : sum abs error 4.09369\n",
      "epoch 10000 : cross-entropy cost 0.71166 : sum abs error 0.62248\n",
      "epoch 20000 : cross-entropy cost 0.16890 : sum abs error 0.16604\n",
      "epoch 30000 : cross-entropy cost 0.11862 : sum abs error 0.10801\n",
      "epoch 40000 : cross-entropy cost 0.09704 : sum abs error 0.10977\n",
      "epoch 50000 : cross-entropy cost 0.08424 : sum abs error 0.11607\n",
      "epoch 60000 : cross-entropy cost 0.07549 : sum abs error 0.06725\n",
      "epoch 70000 : cross-entropy cost 0.06903 : sum abs error 0.08594\n",
      "epoch 80000 : cross-entropy cost 0.06399 : sum abs error 0.08578\n",
      "epoch 90000 : cross-entropy cost 0.05993 : sum abs error 0.06098\n"
     ]
    }
   ],
   "source": [
    "costs = counting_mlp.train(X, y)"
   ]
  },
  {
   "cell_type": "code",
   "execution_count": 19,
   "metadata": {},
   "outputs": [
    {
     "name": "stdout",
     "output_type": "stream",
     "text": [
      "x: [0 0 0] tru: [0 0 1] prd: [0 0 1] ok?: True\n",
      "x: [0 0 1] tru: [0 1 0] prd: [0 1 0] ok?: True\n",
      "x: [0 1 0] tru: [0 1 1] prd: [0 1 1] ok?: True\n",
      "x: [0 1 1] tru: [1 0 0] prd: [1 0 0] ok?: True\n",
      "x: [1 0 0] tru: [1 0 1] prd: [1 0 1] ok?: True\n",
      "x: [1 0 1] tru: [1 1 0] prd: [1 1 0] ok?: True\n",
      "x: [1 1 0] tru: [1 1 1] prd: [1 1 1] ok?: True\n",
      "x: [1 1 1] tru: [0 0 0] prd: [0 0 0] ok?: True\n",
      "\n",
      "accuracy: 100.0 %\n"
     ]
    }
   ],
   "source": [
    "# see results\n",
    "good = 0\n",
    "for i, x in enumerate(X):\n",
    "    prd = counting_mlp.predict(np.array([x]))[0].astype(int)\n",
    "    tru = np.array(y[i])\n",
    "    if np.array_equal(prd, tru):\n",
    "        good += 1\n",
    "    print('x:', x, 'tru:', tru, 'prd:', prd, 'ok?:', np.array_equal(prd, tru))\n",
    "print()\n",
    "print('accuracy:', good*100/X.shape[0], '%')"
   ]
  },
  {
   "cell_type": "markdown",
   "metadata": {},
   "source": [
    "## example 3: classification with the IRIS dataset\n",
    "\n",
    "we will use the [iris flower dataset for classification](http://scikit-learn.org/stable/auto_examples/datasets/plot_iris_dataset.html) to test our network on a classification task.\n",
    "\n",
    "the input for each sample contains **four features**: `Sepal Length, Sepal Width, Petal Length and Petal Width`\n",
    "\n",
    "the output for each sample contains **three classes**: `Setosa, Versicolour, and Virginica`\n",
    "\n",
    "we will use some helper functions from my full `MLPy` repo at https://github.com/SNUDerek/MLPy \n",
    "\n",
    "because this is a multi- *class* classification, we would be better off "
   ]
  },
  {
   "cell_type": "code",
   "execution_count": 20,
   "metadata": {},
   "outputs": [],
   "source": [
    "from mlpy.tools import accuracy_score, one_hot, train_test_split\n",
    "from sklearn import datasets"
   ]
  },
  {
   "cell_type": "code",
   "execution_count": 21,
   "metadata": {},
   "outputs": [],
   "source": [
    "iris = datasets.load_iris()\n",
    "X = iris.data\n",
    "y = np.asarray(iris.target)\n",
    "y = one_hot(y)\n",
    "x_train, x_test, y_train, y_test = train_test_split(X, y, train_size=0.8)"
   ]
  },
  {
   "cell_type": "code",
   "execution_count": 22,
   "metadata": {},
   "outputs": [
    {
     "data": {
      "text/plain": [
       "(4, 3, 120, 30)"
      ]
     },
     "execution_count": 22,
     "metadata": {},
     "output_type": "execute_result"
    }
   ],
   "source": [
    "x_train.shape[1], y_train.shape[1], len(x_train), len(x_test)"
   ]
  },
  {
   "cell_type": "code",
   "execution_count": 23,
   "metadata": {},
   "outputs": [],
   "source": [
    "iris_mlp = MultiLayerPerceptron(x_train.shape[1], \n",
    "                                6, \n",
    "                                y_train.shape[1], \n",
    "                                hidden_layers=2, \n",
    "                                addbias=True,\n",
    "                                epochs=5000, \n",
    "                                batch_size=4,\n",
    "                                lr=0.01, \n",
    "                                print_iters=500, \n",
    "                                verbose=True)"
   ]
  },
  {
   "cell_type": "code",
   "execution_count": 24,
   "metadata": {},
   "outputs": [
    {
     "name": "stdout",
     "output_type": "stream",
     "text": [
      "epoch 0 : cross-entropy cost 21.31151 : sum abs error 7.55782\n",
      "epoch 500 : cross-entropy cost 7.64645 : sum abs error 5.37060\n",
      "epoch 1000 : cross-entropy cost 7.64541 : sum abs error 5.44812\n",
      "epoch 1500 : cross-entropy cost 7.64864 : sum abs error 5.38869\n",
      "epoch 2000 : cross-entropy cost 7.64869 : sum abs error 5.31746\n",
      "epoch 2500 : cross-entropy cost 7.51949 : sum abs error 5.20944\n",
      "epoch 3000 : cross-entropy cost 3.94935 : sum abs error 3.35061\n",
      "epoch 3500 : cross-entropy cost 1.56626 : sum abs error 1.97487\n",
      "epoch 4000 : cross-entropy cost 1.01274 : sum abs error 0.51327\n",
      "epoch 4500 : cross-entropy cost 0.81513 : sum abs error 0.42292\n"
     ]
    }
   ],
   "source": [
    "iris_mlp.train(x_train, y_train)"
   ]
  },
  {
   "cell_type": "code",
   "execution_count": 25,
   "metadata": {},
   "outputs": [],
   "source": [
    "y_pred = iris_mlp.predict_proba(x_test)"
   ]
  },
  {
   "cell_type": "code",
   "execution_count": 26,
   "metadata": {},
   "outputs": [],
   "source": [
    "# we use argmax to get the top ONE highest value, and round the value in predictions to 1.0\n",
    "y_test_idx = [np.argmax(v) for v in y_test]\n",
    "y_pred_idx = [np.round(np.argmax(v)) for v in y_pred]"
   ]
  },
  {
   "cell_type": "code",
   "execution_count": 27,
   "metadata": {},
   "outputs": [
    {
     "name": "stdout",
     "output_type": "stream",
     "text": [
      "0.9666666666666667\n"
     ]
    }
   ],
   "source": [
    "print(accuracy_score(y_test_idx, y_pred_idx))"
   ]
  },
  {
   "cell_type": "code",
   "execution_count": 28,
   "metadata": {},
   "outputs": [
    {
     "name": "stdout",
     "output_type": "stream",
     "text": [
      "1 2\n"
     ]
    }
   ],
   "source": [
    "# miscats\n",
    "for i in range(len(y_test_idx)):\n",
    "    if y_test_idx[i] != y_pred_idx[i]:\n",
    "        print(y_test_idx[i], y_pred_idx[i])"
   ]
  },
  {
   "cell_type": "markdown",
   "metadata": {},
   "source": [
    "## resources\n",
    "\n",
    "**python walkthroughs**  \n",
    "Databoys: [\"Neural network with numpy\"](https://databoys.github.io/Feedforward/)  \n",
    "Muellerklein: [\"Neural network with numpy\"](http://florianmuellerklein.github.io/nn/)  \n",
    "Ray: [\"Understanding and coding Neural Networks From Scratch in Python and R\"](https://www.analyticsvidhya.com/blog/2017/05/neural-network-from-scratch-in-python-and-r/)  \n",
    "Roelants: [\"How to implement a neural network Part 3\"](http://peterroelants.github.io/posts/neural_network_implementation_part03/) _and subsequent sections_  \n",
    "Rolisz: [\"Neural Networks in Python\"](https://rolisz.ro/2013/04/18/neural-networks-in-python/)  \n",
    "\n",
    "**backprop explanations**  \n",
    "3Blue1Brown: *Deep Learning playlist* (video lectures):  \n",
    "[Deep Learning CH1: But what IS a Neural Network?](https://www.youtube.com/watch?v=aircAruvnKk)  \n",
    "[Deep Learning CH2: Gradient Descent, How Neural Networks Learn](https://www.youtube.com/watch?v=IHZwWFHWa-w&t=0s)  \n",
    "[Deep Learning CH3: What is Backpropagation Really Doing?](https://www.youtube.com/watch?v=Ilg3gGewQ5U)  \n",
    "[Deep Learning CH3 Appendix: Backpropagation Calculus](https://www.youtube.com/watch?v=tIeHLnjs5U8)  \n",
    "Mazur: [\"A Step by Step Backpropagation Example\"](https://mattmazur.com/2015/03/17/a-step-by-step-backpropagation-example/)  \n",
    "McGonagle *et al.* [Brilliant: Backpropagation](https://brilliant.org/wiki/backpropagation/)  \n",
    "Nielsen: [_Neural Networks and Deep Learning CH2_](http://neuralnetworksanddeeplearning.com/chap2.html)  \n",
    "\n",
    "**expanded concepts:**  \n",
    "Wolf: [Minimizing the Negative Log-Likelihood, in English](http://willwolf.io/2017/05/18/minimizing_the_negative_log_likelihood_in_english/)"
   ]
  },
  {
   "cell_type": "code",
   "execution_count": null,
   "metadata": {},
   "outputs": [],
   "source": []
  }
 ],
 "metadata": {
  "kernelspec": {
   "display_name": "Python 3",
   "language": "python",
   "name": "python3"
  },
  "language_info": {
   "codemirror_mode": {
    "name": "ipython",
    "version": 3
   },
   "file_extension": ".py",
   "mimetype": "text/x-python",
   "name": "python",
   "nbconvert_exporter": "python",
   "pygments_lexer": "ipython3",
   "version": "3.6.3"
  }
 },
 "nbformat": 4,
 "nbformat_minor": 2
}
