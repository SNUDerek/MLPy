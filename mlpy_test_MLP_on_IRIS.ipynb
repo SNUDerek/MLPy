{
 "cells": [
  {
   "cell_type": "code",
   "execution_count": 1,
   "metadata": {},
   "outputs": [],
   "source": [
    "import numpy as np\n",
    "from mlpy.neural import MultiLayerPerceptron\n",
    "from sklearn import datasets\n",
    "from sklearn.metrics import accuracy_score, classification_report\n",
    "from sklearn.model_selection import train_test_split"
   ]
  },
  {
   "cell_type": "code",
   "execution_count": 2,
   "metadata": {},
   "outputs": [],
   "source": [
    "iris = datasets.load_iris()\n",
    "X = iris.data\n",
    "y = np.asarray(iris.target)\n",
    "y = np.eye(len(set(y)))[y]\n",
    "x_train, x_test, y_train, y_test = train_test_split(X, y, test_size=0.2)"
   ]
  },
  {
   "cell_type": "code",
   "execution_count": 3,
   "metadata": {},
   "outputs": [
    {
     "data": {
      "text/plain": [
       "(4, 3)"
      ]
     },
     "execution_count": 3,
     "metadata": {},
     "output_type": "execute_result"
    }
   ],
   "source": [
    "x_train.shape[1], y_train.shape[1]"
   ]
  },
  {
   "cell_type": "code",
   "execution_count": 4,
   "metadata": {},
   "outputs": [],
   "source": [
    "mlp = MultiLayerPerceptron(x_train.shape[1], 6, y_train.shape[1], hidden_layers=2, epochs=5000, batch_size=4, \n",
    "                           lr=0.01, print_iters=500, verbose=True)"
   ]
  },
  {
   "cell_type": "code",
   "execution_count": 5,
   "metadata": {},
   "outputs": [
    {
     "name": "stdout",
     "output_type": "stream",
     "text": [
      "epoch 0 : cross-entropy cost 20.09104 : sum abs error 6.78880\n",
      "epoch 500 : cross-entropy cost 7.64463 : sum abs error 5.50144\n",
      "epoch 1000 : cross-entropy cost 7.64362 : sum abs error 5.29837\n",
      "epoch 1500 : cross-entropy cost 7.40687 : sum abs error 5.21715\n",
      "epoch 2000 : cross-entropy cost 4.30137 : sum abs error 4.24439\n",
      "epoch 2500 : cross-entropy cost 4.08007 : sum abs error 4.14618\n",
      "epoch 3000 : cross-entropy cost 1.41200 : sum abs error 0.78849\n",
      "epoch 3500 : cross-entropy cost 0.78503 : sum abs error 0.72865\n",
      "epoch 4000 : cross-entropy cost 0.64099 : sum abs error 0.71078\n",
      "epoch 4500 : cross-entropy cost 0.57898 : sum abs error 0.24646\n"
     ]
    }
   ],
   "source": [
    "mlp.train(x_train, y_train)"
   ]
  },
  {
   "cell_type": "code",
   "execution_count": 6,
   "metadata": {},
   "outputs": [],
   "source": [
    "y_pred = mlp.predict(x_test)"
   ]
  },
  {
   "cell_type": "code",
   "execution_count": 7,
   "metadata": {},
   "outputs": [],
   "source": [
    "y_test_idx = [np.argmax(v) for v in y_test]\n",
    "y_pred_idx = [np.argmax(v) for v in y_pred]"
   ]
  },
  {
   "cell_type": "code",
   "execution_count": 8,
   "metadata": {},
   "outputs": [
    {
     "name": "stdout",
     "output_type": "stream",
     "text": [
      "0.933333333333\n"
     ]
    }
   ],
   "source": [
    "print(accuracy_score(y_test_idx, y_pred_idx))"
   ]
  },
  {
   "cell_type": "code",
   "execution_count": 9,
   "metadata": {},
   "outputs": [
    {
     "name": "stdout",
     "output_type": "stream",
     "text": [
      "             precision    recall  f1-score   support\n",
      "\n",
      "          0       1.00      1.00      1.00        12\n",
      "          1       1.00      0.75      0.86         8\n",
      "          2       0.83      1.00      0.91        10\n",
      "\n",
      "avg / total       0.94      0.93      0.93        30\n",
      "\n"
     ]
    }
   ],
   "source": [
    "print(classification_report(y_test_idx, y_pred_idx))"
   ]
  },
  {
   "cell_type": "code",
   "execution_count": null,
   "metadata": {},
   "outputs": [],
   "source": []
  }
 ],
 "metadata": {
  "kernelspec": {
   "display_name": "Python 3",
   "language": "python",
   "name": "python3"
  },
  "language_info": {
   "codemirror_mode": {
    "name": "ipython",
    "version": 3
   },
   "file_extension": ".py",
   "mimetype": "text/x-python",
   "name": "python",
   "nbconvert_exporter": "python",
   "pygments_lexer": "ipython3",
   "version": "3.6.0"
  }
 },
 "nbformat": 4,
 "nbformat_minor": 2
}
