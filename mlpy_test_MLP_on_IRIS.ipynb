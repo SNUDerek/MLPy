{
 "cells": [
  {
   "cell_type": "code",
   "execution_count": 1,
   "metadata": {},
   "outputs": [],
   "source": [
    "import numpy as np\n",
    "from mlpy.neural import MultiLayerPerceptron\n",
    "from mlpy.tools import accuracy_score, one_hot, train_test_split\n",
    "\n",
    "from sklearn import datasets"
   ]
  },
  {
   "cell_type": "code",
   "execution_count": 2,
   "metadata": {},
   "outputs": [],
   "source": [
    "iris = datasets.load_iris()\n",
    "X = iris.data\n",
    "y = np.asarray(iris.target)\n",
    "y = one_hot(y)\n",
    "x_train, x_test, y_train, y_test = train_test_split(X, y, train_size=0.8)"
   ]
  },
  {
   "cell_type": "code",
   "execution_count": 3,
   "metadata": {},
   "outputs": [
    {
     "data": {
      "text/plain": [
       "(4, 3, 120, 30)"
      ]
     },
     "execution_count": 3,
     "metadata": {},
     "output_type": "execute_result"
    }
   ],
   "source": [
    "x_train.shape[1], y_train.shape[1], len(x_train), len(x_test)"
   ]
  },
  {
   "cell_type": "code",
   "execution_count": 4,
   "metadata": {},
   "outputs": [],
   "source": [
    "mlp = MultiLayerPerceptron(x_train.shape[1], 6, y_train.shape[1], hidden_layers=2, epochs=5000, batch_size=4, \n",
    "                           lr=0.01, print_iters=500, verbose=True)"
   ]
  },
  {
   "cell_type": "code",
   "execution_count": 5,
   "metadata": {},
   "outputs": [
    {
     "name": "stdout",
     "output_type": "stream",
     "text": [
      "epoch 0 : cross-entropy cost 21.87759 : sum abs error 7.47284\n",
      "epoch 500 : cross-entropy cost 7.17057 : sum abs error 5.36633\n",
      "epoch 1000 : cross-entropy cost 4.01070 : sum abs error 3.56481\n",
      "epoch 1500 : cross-entropy cost 3.81193 : sum abs error 4.14827\n",
      "epoch 2000 : cross-entropy cost 3.74130 : sum abs error 3.06689\n",
      "epoch 2500 : cross-entropy cost 3.68930 : sum abs error 4.10074\n",
      "epoch 3000 : cross-entropy cost 2.06385 : sum abs error 1.69532\n",
      "epoch 3500 : cross-entropy cost 1.23428 : sum abs error 1.19437\n",
      "epoch 4000 : cross-entropy cost 1.01955 : sum abs error 1.19967\n",
      "epoch 4500 : cross-entropy cost 0.82696 : sum abs error 0.43503\n"
     ]
    }
   ],
   "source": [
    "mlp.train(x_train, y_train)"
   ]
  },
  {
   "cell_type": "code",
   "execution_count": 6,
   "metadata": {},
   "outputs": [],
   "source": [
    "y_pred = mlp.predict(x_test)"
   ]
  },
  {
   "cell_type": "code",
   "execution_count": 7,
   "metadata": {},
   "outputs": [],
   "source": [
    "y_test_idx = [np.argmax(v) for v in y_test]\n",
    "y_pred_idx = [np.argmax(v) for v in y_pred]"
   ]
  },
  {
   "cell_type": "code",
   "execution_count": 8,
   "metadata": {},
   "outputs": [
    {
     "name": "stdout",
     "output_type": "stream",
     "text": [
      "0.9333333333333333\n"
     ]
    }
   ],
   "source": [
    "print(accuracy_score(y_test_idx, y_pred_idx))"
   ]
  },
  {
   "cell_type": "code",
   "execution_count": 9,
   "metadata": {},
   "outputs": [
    {
     "name": "stdout",
     "output_type": "stream",
     "text": [
      "1 2\n",
      "2 1\n"
     ]
    }
   ],
   "source": [
    "# miscats\n",
    "for i in range(len(y_test_idx)):\n",
    "    if y_test_idx[i] != y_pred_idx[i]:\n",
    "        print(y_test_idx[i], y_pred_idx[i])"
   ]
  },
  {
   "cell_type": "code",
   "execution_count": null,
   "metadata": {},
   "outputs": [],
   "source": []
  }
 ],
 "metadata": {
  "kernelspec": {
   "display_name": "Python 3",
   "language": "python",
   "name": "python3"
  },
  "language_info": {
   "codemirror_mode": {
    "name": "ipython",
    "version": 3
   },
   "file_extension": ".py",
   "mimetype": "text/x-python",
   "name": "python",
   "nbconvert_exporter": "python",
   "pygments_lexer": "ipython3",
   "version": "3.6.3"
  }
 },
 "nbformat": 4,
 "nbformat_minor": 2
}
