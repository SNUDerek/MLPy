{
 "cells": [
  {
   "cell_type": "code",
   "execution_count": 1,
   "metadata": {},
   "outputs": [],
   "source": [
    "import numpy as np\n",
    "from mlpy.neural import MultiLayerPerceptron\n",
    "from mlpy.tools import accuracy_score, one_hot, train_test_split\n",
    "\n",
    "from sklearn import datasets"
   ]
  },
  {
   "cell_type": "code",
   "execution_count": 2,
   "metadata": {},
   "outputs": [],
   "source": [
    "iris = datasets.load_iris()\n",
    "X = iris.data\n",
    "y = np.asarray(iris.target)\n",
    "y = one_hot(y)\n",
    "x_train, x_test, y_train, y_test = train_test_split(X, y, train_size=0.8)"
   ]
  },
  {
   "cell_type": "code",
   "execution_count": 3,
   "metadata": {},
   "outputs": [
    {
     "data": {
      "text/plain": [
       "(4, 3, 120, 30)"
      ]
     },
     "execution_count": 3,
     "metadata": {},
     "output_type": "execute_result"
    }
   ],
   "source": [
    "x_train.shape[1], y_train.shape[1], len(x_train), len(x_test)"
   ]
  },
  {
   "cell_type": "code",
   "execution_count": 4,
   "metadata": {},
   "outputs": [],
   "source": [
    "mlp = MultiLayerPerceptron(x_train.shape[1], 6, y_train.shape[1], hidden_layers=2, epochs=5000, batch_size=4, \n",
    "                           lr=0.01, print_iters=500, verbose=True)"
   ]
  },
  {
   "cell_type": "code",
   "execution_count": 5,
   "metadata": {},
   "outputs": [
    {
     "name": "stdout",
     "output_type": "stream",
     "text": [
      "epoch 0 : cross-entropy cost 22.64681 : sum abs error 7.30573\n",
      "epoch 500 : cross-entropy cost 5.16063 : sum abs error 4.28985\n",
      "epoch 1000 : cross-entropy cost 3.83336 : sum abs error 3.40838\n",
      "epoch 1500 : cross-entropy cost 1.99805 : sum abs error 1.69085\n",
      "epoch 2000 : cross-entropy cost 1.37332 : sum abs error 2.48456\n",
      "epoch 2500 : cross-entropy cost 1.10704 : sum abs error 0.80418\n",
      "epoch 3000 : cross-entropy cost 0.99366 : sum abs error 0.48380\n",
      "epoch 3500 : cross-entropy cost 0.95675 : sum abs error 0.54471\n",
      "epoch 4000 : cross-entropy cost 0.85749 : sum abs error 0.92157\n",
      "epoch 4500 : cross-entropy cost 0.92587 : sum abs error 0.34192\n"
     ]
    }
   ],
   "source": [
    "mlp.train(x_train, y_train)"
   ]
  },
  {
   "cell_type": "code",
   "execution_count": 6,
   "metadata": {},
   "outputs": [],
   "source": [
    "y_pred = mlp.predict(x_test)"
   ]
  },
  {
   "cell_type": "code",
   "execution_count": 7,
   "metadata": {},
   "outputs": [],
   "source": [
    "y_test_idx = [np.argmax(v) for v in y_test]\n",
    "y_pred_idx = [np.argmax(v) for v in y_pred]"
   ]
  },
  {
   "cell_type": "code",
   "execution_count": 8,
   "metadata": {},
   "outputs": [
    {
     "name": "stdout",
     "output_type": "stream",
     "text": [
      "0.9666666666666667\n"
     ]
    }
   ],
   "source": [
    "print(accuracy_score(y_test_idx, y_pred_idx))"
   ]
  },
  {
   "cell_type": "code",
   "execution_count": 9,
   "metadata": {},
   "outputs": [
    {
     "name": "stdout",
     "output_type": "stream",
     "text": [
      "1 2\n"
     ]
    }
   ],
   "source": [
    "# miscats\n",
    "for i in range(len(y_test_idx)):\n",
    "    if y_test_idx[i] != y_pred_idx[i]:\n",
    "        print(y_test_idx[i], y_pred_idx[i])"
   ]
  },
  {
   "cell_type": "code",
   "execution_count": null,
   "metadata": {},
   "outputs": [],
   "source": []
  }
 ],
 "metadata": {
  "kernelspec": {
   "display_name": "Python 3",
   "language": "python",
   "name": "python3"
  },
  "language_info": {
   "codemirror_mode": {
    "name": "ipython",
    "version": 3
   },
   "file_extension": ".py",
   "mimetype": "text/x-python",
   "name": "python",
   "nbconvert_exporter": "python",
   "pygments_lexer": "ipython3",
   "version": "3.6.0"
  }
 },
 "nbformat": 4,
 "nbformat_minor": 2
}
