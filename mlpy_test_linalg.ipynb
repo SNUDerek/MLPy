{
 "cells": [
  {
   "cell_type": "code",
   "execution_count": 1,
   "metadata": {
    "collapsed": true
   },
   "outputs": [],
   "source": [
    "from mlpy.linalg import Vector"
   ]
  },
  {
   "cell_type": "code",
   "execution_count": 2,
   "metadata": {
    "collapsed": false
   },
   "outputs": [
    {
     "name": "stdout",
     "output_type": "stream",
     "text": [
      "addition, subtraction and scalar multiplication\n",
      "Q1: (7.089, -7.229999999999999)\n",
      "Q2: (15.342, 7.337)\n",
      "Q3: (12.38211, -7.49892, -2.35638)\n",
      "\n"
     ]
    }
   ],
   "source": [
    "# quiz questions 1\n",
    "print('addition, subtraction and scalar multiplication')\n",
    "a = Vector([8.218, -9.341])\n",
    "b = Vector([-1.129, 2.111])\n",
    "print(\"Q1:\",a.plus(b).coordinates)\n",
    "a = Vector([7.119, 8.215])\n",
    "b = Vector([-8.223, 0.878])\n",
    "print(\"Q2:\",a.minus(b).coordinates)\n",
    "a = Vector([1.671,-1.012,-0.318])\n",
    "b = 7.41\n",
    "print(\"Q3:\",a.scalarmult(b).coordinates)\n",
    "print('')"
   ]
  },
  {
   "cell_type": "code",
   "execution_count": 3,
   "metadata": {
    "collapsed": false
   },
   "outputs": [
    {
     "name": "stdout",
     "output_type": "stream",
     "text": [
      "magnitude and direction\n",
      "mag of (-0.221, 7.437) : 7.440282924728065\n",
      "mag of (8.813, -1.331, -6.247) : 10.884187567292289\n",
      "dir of (5.581, -2.136) : (0.9339352140866403, -0.35744232526233)\n",
      "dir of (1.996, 3.108, -4.554) : (0.3404012959433014, 0.5300437012984873, -0.7766470449528028)\n",
      "\n"
     ]
    }
   ],
   "source": [
    "# quiz questions 2\n",
    "print('magnitude and direction')\n",
    "a = Vector([-0.221,7.437])\n",
    "print(\"mag of\",a.coordinates,\":\",a.magnitude())\n",
    "a = Vector([8.813,-1.331,-6.247])\n",
    "print(\"mag of\",a.coordinates,\":\",a.magnitude())\n",
    "a = Vector([5.581,-2.136])\n",
    "print(\"dir of\",a.coordinates,\":\",a.direction())\n",
    "a = Vector([1.996,3.108,-4.554])\n",
    "print(\"dir of\",a.coordinates,\":\",a.direction())\n",
    "print('')"
   ]
  },
  {
   "cell_type": "code",
   "execution_count": 4,
   "metadata": {
    "collapsed": false
   },
   "outputs": [
    {
     "name": "stdout",
     "output_type": "stream",
     "text": [
      "dot product and angle\n",
      "Q1 dot: -41.382286\n",
      "Q2 dot: 56.397178000000004\n",
      "Q3 rads: 3.0720263098372476\n",
      "Q4 degs: 60.27581120523091\n",
      "\n"
     ]
    }
   ],
   "source": [
    "#quiz questions 3\n",
    "print('dot product and angle')\n",
    "a = Vector([7.887,4.138])\n",
    "b = Vector([-8.802, 6.776])\n",
    "print(\"Q1 dot:\",a.dot(b))\n",
    "a = Vector([-5.955, -4.904, -1.874])\n",
    "b = Vector([-4.496, -8.755, 7.103])\n",
    "print(\"Q2 dot:\",a.dot(b))\n",
    "a = Vector([3.183,-7.627])\n",
    "b = Vector([-2.668,5.319])\n",
    "print(\"Q3 rads:\",a.radiansto(b))\n",
    "a = Vector([7.35,0.221,5.188])\n",
    "b = Vector([2.751,8.259,3.985])\n",
    "print(\"Q4 degs:\", a.degreesto(b))\n",
    "print('')"
   ]
  },
  {
   "cell_type": "code",
   "execution_count": 5,
   "metadata": {
    "collapsed": false
   },
   "outputs": [
    {
     "name": "stdout",
     "output_type": "stream",
     "text": [
      "parallelism & orthogonality\n",
      "Para: True Orth: False\n",
      "Para: False Orth: False\n",
      "Para: False Orth: True\n",
      "notice: attempting to find cosine of 0 vector\n",
      "Para: True Orth: True\n",
      "\n"
     ]
    }
   ],
   "source": [
    "# quiz questions 4\n",
    "print('parallelism & orthogonality')\n",
    "a = Vector([-7.579,-7.88])\n",
    "b = Vector([22.737,23.64])\n",
    "print(\"Para:\",a.isparallel(b),\"Orth:\",a.isright(b))\n",
    "a = Vector([-2.029,9.97,4.172])\n",
    "b = Vector([-9.231,-6.639,-7.245])\n",
    "print(\"Para:\",a.isparallel(b),\"Orth:\",a.isright(b))\n",
    "a = Vector([-2.328,-7.284,-1.214])\n",
    "b = Vector([-1.821,1.072,-2.94])\n",
    "print(\"Para:\",a.isparallel(b),\"Orth:\",a.isright(b))\n",
    "a = Vector([2.118,4.827])\n",
    "b = Vector([0.0,0.0])\n",
    "print(\"Para:\",a.isparallel(b),\"Orth:\",a.isright(b))\n",
    "print('')"
   ]
  },
  {
   "cell_type": "code",
   "execution_count": 6,
   "metadata": {
    "collapsed": false
   },
   "outputs": [
    {
     "name": "stdout",
     "output_type": "stream",
     "text": [
      "vector projections & orthogonals\n",
      "A proj_b(v): (1.0826069624844668, 2.671742758325302)\n",
      "B orth_b(v): (-8.350081043195763, 3.376061254287722, -1.4337460427811841)\n",
      "C proj_b(v): (1.9685161672140898, -2.8107607484393564, 0.8480849633578503, 2.679813233256158)\n",
      "C orth_b(v): (1.04048383278591, -3.3612392515606433, 2.8439150366421497, -5.189813233256158)\n",
      "\n"
     ]
    }
   ],
   "source": [
    "# quiz questions 5\n",
    "print('vector projections & orthogonals')\n",
    "v = Vector([3.039, 1.879])\n",
    "b = Vector([0.825, 2.036])\n",
    "print(\"A proj_b(v):\",v.projection(b).coordinates)\n",
    "v = Vector([-9.88, -3.264, -8.159])\n",
    "b = Vector([-2.155, -9.353, -9.473])\n",
    "print(\"B orth_b(v):\",v.orthogonal(b).coordinates)\n",
    "v = Vector([3.009, -6.172, 3.692, -2.51])\n",
    "b = Vector([6.404, -9.144, 2.759, 8.718])\n",
    "print(\"C proj_b(v):\",v.projection(b).coordinates)\n",
    "print(\"C orth_b(v):\",v.orthogonal(b).coordinates)\n",
    "print('')"
   ]
  },
  {
   "cell_type": "code",
   "execution_count": 7,
   "metadata": {
    "collapsed": false
   },
   "outputs": [
    {
     "name": "stdout",
     "output_type": "stream",
     "text": [
      "cross products\n",
      "cross product vector: (-11.204570999999994, -97.609444, -105.68516199999999)\n",
      "check dot prods == 0: a -1.1368683772161603e-13 b 1.1368683772161603e-13\n",
      "area of parallelogram: 142.12222140184633\n",
      "area of parallelogram: 142.12222140184633\n",
      "area of triangle: 42.56493739941894\n",
      "area of triangle: 42.56493739941894\n",
      "2D vector test!!: (-105.68516199999999, 0.0, 0.0)\n"
     ]
    }
   ],
   "source": [
    "# quiz questions 6\n",
    "print('cross products')\n",
    "a = Vector([8.462, 7.893, -8.187])\n",
    "b = Vector([6.984, -5.975, 4.778])\n",
    "c = a.cross(b)\n",
    "print('cross product vector:', c.coordinates)\n",
    "print('check dot prods == 0:', 'a',a.dot(c), 'b',b.dot(c))\n",
    "a = Vector([-8.987, -9.838, 5.031])\n",
    "b = Vector([-4.268, -1.861, -8.866])\n",
    "print('area of parallelogram:', a.trianglearea(b) * 2)\n",
    "print('area of parallelogram:', a.cross(b).magnitude())\n",
    "a = Vector([1.5, 9.547, 3.691])\n",
    "b = Vector([-6.007, 0.124, 5.772])\n",
    "print('area of triangle:', a.trianglearea(b))\n",
    "print('area of triangle:', a.cross(b).magnitude()*0.5)\n",
    "a = Vector([8.462, 7.893])\n",
    "b = Vector([6.984, -5.975])\n",
    "c = a.cross(b)\n",
    "print('2D vector test!!:', c.coordinates)"
   ]
  },
  {
   "cell_type": "code",
   "execution_count": null,
   "metadata": {
    "collapsed": true
   },
   "outputs": [],
   "source": []
  }
 ],
 "metadata": {
  "kernelspec": {
   "display_name": "Python 3",
   "language": "python",
   "name": "python3"
  },
  "language_info": {
   "codemirror_mode": {
    "name": "ipython",
    "version": 3
   },
   "file_extension": ".py",
   "mimetype": "text/x-python",
   "name": "python",
   "nbconvert_exporter": "python",
   "pygments_lexer": "ipython3",
   "version": "3.6.1"
  }
 },
 "nbformat": 4,
 "nbformat_minor": 2
}
