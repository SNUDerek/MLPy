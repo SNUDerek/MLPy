{
 "cells": [
  {
   "cell_type": "code",
   "execution_count": 1,
   "metadata": {
    "collapsed": true,
    "deletable": true,
    "editable": true
   },
   "outputs": [],
   "source": [
    "import numpy as np\n",
    "import pandas as pd"
   ]
  },
  {
   "cell_type": "code",
   "execution_count": 2,
   "metadata": {
    "collapsed": false,
    "deletable": true,
    "editable": true
   },
   "outputs": [],
   "source": [
    "from mlpy.regression import LinearRegression, ZeroRuleforRegression\n",
    "from mlpy.tools import accuracy_score, train_test_split"
   ]
  },
  {
   "cell_type": "code",
   "execution_count": 3,
   "metadata": {
    "collapsed": false,
    "deletable": true,
    "editable": true
   },
   "outputs": [
    {
     "data": {
      "text/html": [
       "<div>\n",
       "<style>\n",
       "    .dataframe thead tr:only-child th {\n",
       "        text-align: right;\n",
       "    }\n",
       "\n",
       "    .dataframe thead th {\n",
       "        text-align: left;\n",
       "    }\n",
       "\n",
       "    .dataframe tbody tr th {\n",
       "        vertical-align: top;\n",
       "    }\n",
       "</style>\n",
       "<table border=\"1\" class=\"dataframe\">\n",
       "  <thead>\n",
       "    <tr style=\"text-align: right;\">\n",
       "      <th></th>\n",
       "      <th>EXAM1</th>\n",
       "      <th>EXAM2</th>\n",
       "      <th>EXAM3</th>\n",
       "      <th>FINAL</th>\n",
       "    </tr>\n",
       "  </thead>\n",
       "  <tbody>\n",
       "    <tr>\n",
       "      <th>0</th>\n",
       "      <td>73</td>\n",
       "      <td>80</td>\n",
       "      <td>75</td>\n",
       "      <td>152</td>\n",
       "    </tr>\n",
       "    <tr>\n",
       "      <th>1</th>\n",
       "      <td>93</td>\n",
       "      <td>88</td>\n",
       "      <td>93</td>\n",
       "      <td>185</td>\n",
       "    </tr>\n",
       "    <tr>\n",
       "      <th>2</th>\n",
       "      <td>89</td>\n",
       "      <td>91</td>\n",
       "      <td>90</td>\n",
       "      <td>180</td>\n",
       "    </tr>\n",
       "    <tr>\n",
       "      <th>3</th>\n",
       "      <td>96</td>\n",
       "      <td>98</td>\n",
       "      <td>100</td>\n",
       "      <td>196</td>\n",
       "    </tr>\n",
       "    <tr>\n",
       "      <th>4</th>\n",
       "      <td>73</td>\n",
       "      <td>66</td>\n",
       "      <td>70</td>\n",
       "      <td>142</td>\n",
       "    </tr>\n",
       "  </tbody>\n",
       "</table>\n",
       "</div>"
      ],
      "text/plain": [
       "   EXAM1  EXAM2  EXAM3  FINAL\n",
       "0     73     80     75    152\n",
       "1     93     88     93    185\n",
       "2     89     91     90    180\n",
       "3     96     98    100    196\n",
       "4     73     66     70    142"
      ]
     },
     "execution_count": 3,
     "metadata": {},
     "output_type": "execute_result"
    }
   ],
   "source": [
    "# reading data\n",
    "data = pd.read_csv('datasets/test_scores.csv')\n",
    "data.head()"
   ]
  },
  {
   "cell_type": "code",
   "execution_count": 4,
   "metadata": {
    "collapsed": false,
    "deletable": true,
    "editable": true
   },
   "outputs": [],
   "source": [
    "# get features\n",
    "feature1 = np.array(data['EXAM1'].tolist(), dtype=np.float32)[:, np.newaxis]\n",
    "feature2 = np.array(data['EXAM2'].tolist(), dtype=np.float32)[:, np.newaxis]\n",
    "feature3 = np.array(data['EXAM3'].tolist(), dtype=np.float32)[:, np.newaxis]\n",
    "y_data = np.array(data['FINAL'].tolist(), dtype=np.float32)"
   ]
  },
  {
   "cell_type": "code",
   "execution_count": 5,
   "metadata": {
    "collapsed": false,
    "deletable": true,
    "editable": true
   },
   "outputs": [],
   "source": [
    "# normalize features\n",
    "feature1 /= np.max(feature1)\n",
    "feature2 /= np.max(feature2)\n",
    "feature3 /= np.max(feature3)"
   ]
  },
  {
   "cell_type": "code",
   "execution_count": 6,
   "metadata": {
    "collapsed": false,
    "deletable": true,
    "editable": true
   },
   "outputs": [
    {
     "name": "stdout",
     "output_type": "stream",
     "text": [
      "(22, 3) (3, 3) (22,) (3,)\n"
     ]
    }
   ],
   "source": [
    "# join x data to feature matrix\n",
    "x_data = np.hstack((feature1, feature2, feature3))\n",
    "X_train, X_test, y_train, y_test = train_test_split(x_data, y_data, train_size=0.9)\n",
    "print(X_train.shape, X_test.shape, y_train.shape, y_test.shape)"
   ]
  },
  {
   "cell_type": "code",
   "execution_count": 7,
   "metadata": {
    "collapsed": false,
    "deletable": true,
    "editable": true
   },
   "outputs": [
    {
     "name": "stdout",
     "output_type": "stream",
     "text": [
      "fitting classifier...\n",
      "\n",
      "iteration 10000: cost: 7.522745203353049\n",
      "iteration 20000: cost: 5.118626045004454\n",
      "iteration 30000: cost: 4.450610387865277\n",
      "iteration 40000: cost: 4.0477504283736385\n",
      "iteration 50000: cost: 3.773181876655836\n",
      "iteration 60000: cost: 3.582647714011048\n",
      "iteration 70000: cost: 3.449257942624955\n",
      "iteration 80000: cost: 3.3551297024507445\n",
      "iteration 90000: cost: 3.2881977497048482\n",
      "iteration 100000: cost: 3.240256328423877\n"
     ]
    }
   ],
   "source": [
    "print(\"fitting classifier...\\n\")\n",
    "# instantiate LinearRegression model\n",
    "lrgs = LinearRegression(epochs=100000, lmb=1e-5, lr=0.01, sgd=8)\n",
    "# fit the model to the data\n",
    "lrgs.fit(X_train, y_train, verbose=True, print_iters=10000)"
   ]
  },
  {
   "cell_type": "code",
   "execution_count": 8,
   "metadata": {
    "collapsed": false,
    "deletable": true,
    "editable": true,
    "scrolled": true
   },
   "outputs": [
    {
     "name": "stdout",
     "output_type": "stream",
     "text": [
      "143.58459953 141.0\n",
      "185.351226823 185.0\n",
      "153.426870948 152.0\n",
      "train error 3.24025227966\n",
      "test  error 1.47324595241\n"
     ]
    }
   ],
   "source": [
    "# create preds and calculate errors\n",
    "preds = lrgs.predict(X_test)\n",
    "\n",
    "for i in range(len(preds)):\n",
    "    print(preds[i], y_test[i])\n",
    "\n",
    "print(\"train error\", lrgs.error(X_train, y_train))\n",
    "print(\"test  error\", lrgs.error(X_test, y_test))"
   ]
  },
  {
   "cell_type": "code",
   "execution_count": null,
   "metadata": {
    "collapsed": true,
    "deletable": true,
    "editable": true
   },
   "outputs": [],
   "source": []
  }
 ],
 "metadata": {
  "kernelspec": {
   "display_name": "Python 3",
   "language": "python",
   "name": "python3"
  },
  "language_info": {
   "codemirror_mode": {
    "name": "ipython",
    "version": 3
   },
   "file_extension": ".py",
   "mimetype": "text/x-python",
   "name": "python",
   "nbconvert_exporter": "python",
   "pygments_lexer": "ipython3",
   "version": "3.6.1"
  }
 },
 "nbformat": 4,
 "nbformat_minor": 0
}
